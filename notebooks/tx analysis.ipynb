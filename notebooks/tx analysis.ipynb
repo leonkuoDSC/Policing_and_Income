{
 "cells": [
  {
   "cell_type": "code",
   "execution_count": 1,
   "id": "2709e776",
   "metadata": {},
   "outputs": [
    {
     "name": "stderr",
     "output_type": "stream",
     "text": [
      "/home/jasheu/.local/lib/python3.9/site-packages/geopandas/_compat.py:111: UserWarning: The Shapely GEOS version (3.9.1-CAPI-1.14.2) is incompatible with the GEOS version PyGEOS was compiled with (3.10.1-CAPI-1.16.0). Conversions between both will be slow.\n",
      "  warnings.warn(\n"
     ]
    }
   ],
   "source": [
    "import pandas as pd\n",
    "import numpy as np\n",
    "import matplotlib.pyplot as plt\n",
    "import geopandas\n",
    "import seaborn as sns\n",
    "import scipy.stats\n",
    "from sklearn.linear_model import LogisticRegression\n",
    "from sklearn.model_selection import train_test_split\n",
    "import statsmodels.api as sm"
   ]
  },
  {
   "cell_type": "code",
   "execution_count": 2,
   "id": "f3454b5a",
   "metadata": {
    "scrolled": false
   },
   "outputs": [
    {
     "data": {
      "text/html": [
       "<div>\n",
       "<style scoped>\n",
       "    .dataframe tbody tr th:only-of-type {\n",
       "        vertical-align: middle;\n",
       "    }\n",
       "\n",
       "    .dataframe tbody tr th {\n",
       "        vertical-align: top;\n",
       "    }\n",
       "\n",
       "    .dataframe thead th {\n",
       "        text-align: right;\n",
       "    }\n",
       "</style>\n",
       "<table border=\"1\" class=\"dataframe\">\n",
       "  <thead>\n",
       "    <tr style=\"text-align: right;\">\n",
       "      <th></th>\n",
       "      <th>Unnamed: 0</th>\n",
       "      <th>raw_row_number</th>\n",
       "      <th>date</th>\n",
       "      <th>time</th>\n",
       "      <th>location</th>\n",
       "      <th>lat</th>\n",
       "      <th>lng</th>\n",
       "      <th>district</th>\n",
       "      <th>substation</th>\n",
       "      <th>subject_age</th>\n",
       "      <th>...</th>\n",
       "      <th>vehicle_year</th>\n",
       "      <th>raw_race</th>\n",
       "      <th>raw_posted_speed</th>\n",
       "      <th>raw_actual_speed</th>\n",
       "      <th>raw_search_reason</th>\n",
       "      <th>raw_contraband_or_evidence</th>\n",
       "      <th>raw_custodial_arrest_made</th>\n",
       "      <th>make_model</th>\n",
       "      <th>age</th>\n",
       "      <th>price</th>\n",
       "    </tr>\n",
       "  </thead>\n",
       "  <tbody>\n",
       "    <tr>\n",
       "      <th>0</th>\n",
       "      <td>0</td>\n",
       "      <td>27697</td>\n",
       "      <td>2012-11-15</td>\n",
       "      <td>09:55:00</td>\n",
       "      <td>7200   E IH 10</td>\n",
       "      <td>29.446583</td>\n",
       "      <td>-98.354972</td>\n",
       "      <td>4310.0</td>\n",
       "      <td>EAST</td>\n",
       "      <td>44.0</td>\n",
       "      <td>...</td>\n",
       "      <td>2007.0</td>\n",
       "      <td>W</td>\n",
       "      <td>-</td>\n",
       "      <td>-</td>\n",
       "      <td>NaN</td>\n",
       "      <td>NaN</td>\n",
       "      <td>NaN</td>\n",
       "      <td>2007.0 GMC 3500</td>\n",
       "      <td>15.0</td>\n",
       "      <td>8917.250000</td>\n",
       "    </tr>\n",
       "    <tr>\n",
       "      <th>1</th>\n",
       "      <td>1</td>\n",
       "      <td>27705</td>\n",
       "      <td>2012-11-15</td>\n",
       "      <td>11:20:00</td>\n",
       "      <td>7200   E IH 10</td>\n",
       "      <td>29.446583</td>\n",
       "      <td>-98.354972</td>\n",
       "      <td>4310.0</td>\n",
       "      <td>EAST</td>\n",
       "      <td>50.0</td>\n",
       "      <td>...</td>\n",
       "      <td>2006.0</td>\n",
       "      <td>H</td>\n",
       "      <td>-</td>\n",
       "      <td>-</td>\n",
       "      <td>NaN</td>\n",
       "      <td>NaN</td>\n",
       "      <td>NaN</td>\n",
       "      <td>2006.0 GMC 3500</td>\n",
       "      <td>16.0</td>\n",
       "      <td>7539.888889</td>\n",
       "    </tr>\n",
       "    <tr>\n",
       "      <th>2</th>\n",
       "      <td>2</td>\n",
       "      <td>648406|648407</td>\n",
       "      <td>2014-07-14</td>\n",
       "      <td>18:10:00</td>\n",
       "      <td>W HWY 90</td>\n",
       "      <td>29.388513</td>\n",
       "      <td>-98.673728</td>\n",
       "      <td>5340.0</td>\n",
       "      <td>WEST</td>\n",
       "      <td>24.0</td>\n",
       "      <td>...</td>\n",
       "      <td>2006.0</td>\n",
       "      <td>W</td>\n",
       "      <td>-</td>\n",
       "      <td>-</td>\n",
       "      <td>No Search</td>\n",
       "      <td>No</td>\n",
       "      <td>No</td>\n",
       "      <td>2006.0 GMC 3500</td>\n",
       "      <td>16.0</td>\n",
       "      <td>7539.888889</td>\n",
       "    </tr>\n",
       "    <tr>\n",
       "      <th>3</th>\n",
       "      <td>3</td>\n",
       "      <td>30690</td>\n",
       "      <td>2012-12-10</td>\n",
       "      <td>15:38:00</td>\n",
       "      <td>4100   S IH 37</td>\n",
       "      <td>29.379932</td>\n",
       "      <td>-98.457899</td>\n",
       "      <td>4220.0</td>\n",
       "      <td>EAST</td>\n",
       "      <td>54.0</td>\n",
       "      <td>...</td>\n",
       "      <td>2012.0</td>\n",
       "      <td>W</td>\n",
       "      <td>--</td>\n",
       "      <td>--</td>\n",
       "      <td>No Search</td>\n",
       "      <td>No</td>\n",
       "      <td>No</td>\n",
       "      <td>2012.0 CHRY 300</td>\n",
       "      <td>10.0</td>\n",
       "      <td>14623.444444</td>\n",
       "    </tr>\n",
       "    <tr>\n",
       "      <th>4</th>\n",
       "      <td>4</td>\n",
       "      <td>445794</td>\n",
       "      <td>2013-09-26</td>\n",
       "      <td>22:28:00</td>\n",
       "      <td>1000   NELOOP 410</td>\n",
       "      <td>29.520421</td>\n",
       "      <td>-98.489736</td>\n",
       "      <td>3320.0</td>\n",
       "      <td>NORTH</td>\n",
       "      <td>20.0</td>\n",
       "      <td>...</td>\n",
       "      <td>2012.0</td>\n",
       "      <td>W</td>\n",
       "      <td>--</td>\n",
       "      <td>--</td>\n",
       "      <td>No Search</td>\n",
       "      <td>No</td>\n",
       "      <td>No</td>\n",
       "      <td>2012.0 CHRY 300</td>\n",
       "      <td>10.0</td>\n",
       "      <td>14623.444444</td>\n",
       "    </tr>\n",
       "  </tbody>\n",
       "</table>\n",
       "<p>5 rows × 36 columns</p>\n",
       "</div>"
      ],
      "text/plain": [
       "   Unnamed: 0 raw_row_number        date      time           location  \\\n",
       "0           0          27697  2012-11-15  09:55:00     7200   E IH 10   \n",
       "1           1          27705  2012-11-15  11:20:00     7200   E IH 10   \n",
       "2           2  648406|648407  2014-07-14  18:10:00           W HWY 90   \n",
       "3           3          30690  2012-12-10  15:38:00     4100   S IH 37   \n",
       "4           4         445794  2013-09-26  22:28:00  1000   NELOOP 410   \n",
       "\n",
       "         lat        lng  district substation  subject_age  ... vehicle_year  \\\n",
       "0  29.446583 -98.354972    4310.0       EAST         44.0  ...       2007.0   \n",
       "1  29.446583 -98.354972    4310.0       EAST         50.0  ...       2006.0   \n",
       "2  29.388513 -98.673728    5340.0       WEST         24.0  ...       2006.0   \n",
       "3  29.379932 -98.457899    4220.0       EAST         54.0  ...       2012.0   \n",
       "4  29.520421 -98.489736    3320.0      NORTH         20.0  ...       2012.0   \n",
       "\n",
       "  raw_race raw_posted_speed raw_actual_speed  raw_search_reason  \\\n",
       "0        W                -                -                NaN   \n",
       "1        H                -                -                NaN   \n",
       "2        W                -                -          No Search   \n",
       "3        W               --               --          No Search   \n",
       "4        W               --               --          No Search   \n",
       "\n",
       "   raw_contraband_or_evidence raw_custodial_arrest_made       make_model  \\\n",
       "0                         NaN                       NaN  2007.0 GMC 3500   \n",
       "1                         NaN                       NaN  2006.0 GMC 3500   \n",
       "2                          No                        No  2006.0 GMC 3500   \n",
       "3                          No                        No  2012.0 CHRY 300   \n",
       "4                          No                        No  2012.0 CHRY 300   \n",
       "\n",
       "    age         price  \n",
       "0  15.0   8917.250000  \n",
       "1  16.0   7539.888889  \n",
       "2  16.0   7539.888889  \n",
       "3  10.0  14623.444444  \n",
       "4  10.0  14623.444444  \n",
       "\n",
       "[5 rows x 36 columns]"
      ]
     },
     "execution_count": 2,
     "metadata": {},
     "output_type": "execute_result"
    }
   ],
   "source": [
    "df = pd.read_csv('tx_merged.csv')\n",
    "df.head()"
   ]
  },
  {
   "cell_type": "code",
   "execution_count": null,
   "id": "c5926fc3",
   "metadata": {},
   "outputs": [],
   "source": []
  },
  {
   "cell_type": "code",
   "execution_count": 3,
   "id": "ea3ada40",
   "metadata": {},
   "outputs": [
    {
     "data": {
      "text/plain": [
       "Index(['Unnamed: 0', 'raw_row_number', 'date', 'time', 'location', 'lat',\n",
       "       'lng', 'district', 'substation', 'subject_age', 'subject_race',\n",
       "       'subject_sex', 'type', 'violation', 'arrest_made', 'citation_issued',\n",
       "       'outcome', 'contraband_found', 'search_conducted', 'search_basis',\n",
       "       'speed', 'posted_speed', 'vehicle_color', 'vehicle_make',\n",
       "       'vehicle_model', 'vehicle_registration_state', 'vehicle_year',\n",
       "       'raw_race', 'raw_posted_speed', 'raw_actual_speed', 'raw_search_reason',\n",
       "       'raw_contraband_or_evidence', 'raw_custodial_arrest_made', 'make_model',\n",
       "       'age', 'price'],\n",
       "      dtype='object')"
      ]
     },
     "execution_count": 3,
     "metadata": {},
     "output_type": "execute_result"
    }
   ],
   "source": [
    "df.columns"
   ]
  },
  {
   "cell_type": "code",
   "execution_count": 4,
   "id": "dc63f871",
   "metadata": {},
   "outputs": [],
   "source": [
    "# cheap: 0-10000\n",
    "# midrange: 10000-40000\n",
    "# expensive: 40000+\n",
    "def bin_price(price):\n",
    "    if price <= 10000:\n",
    "        return 'cheap'\n",
    "    elif price <= 35000:\n",
    "        return 'mid'\n",
    "    else:\n",
    "        return 'expensive'\n",
    "\n",
    "df['price_bin'] = df['price'].apply(bin_price)"
   ]
  },
  {
   "cell_type": "code",
   "execution_count": 89,
   "id": "d42ea074",
   "metadata": {},
   "outputs": [],
   "source": [
    "price_grouped = df.groupby('price_bin').sum()\n",
    "price_grouped_count = df.groupby('price_bin').count()\n",
    "price_grouped['count'] = price_grouped_count['raw_row_number']\n",
    "price_grouped['avg price'] = df.groupby('price_bin').mean()['price']\n",
    "price_grouped = price_grouped[['count', 'arrest_made', 'citation_issued','search_conducted', 'avg price']]"
   ]
  },
  {
   "cell_type": "code",
   "execution_count": 90,
   "id": "e339fb8e",
   "metadata": {
    "scrolled": true
   },
   "outputs": [
    {
     "data": {
      "text/html": [
       "<div>\n",
       "<style scoped>\n",
       "    .dataframe tbody tr th:only-of-type {\n",
       "        vertical-align: middle;\n",
       "    }\n",
       "\n",
       "    .dataframe tbody tr th {\n",
       "        vertical-align: top;\n",
       "    }\n",
       "\n",
       "    .dataframe thead th {\n",
       "        text-align: right;\n",
       "    }\n",
       "</style>\n",
       "<table border=\"1\" class=\"dataframe\">\n",
       "  <thead>\n",
       "    <tr style=\"text-align: right;\">\n",
       "      <th></th>\n",
       "      <th>count</th>\n",
       "      <th>arrest_made</th>\n",
       "      <th>citation_issued</th>\n",
       "      <th>search_conducted</th>\n",
       "      <th>avg price</th>\n",
       "      <th>arrest rate</th>\n",
       "      <th>search rate</th>\n",
       "    </tr>\n",
       "    <tr>\n",
       "      <th>price_bin</th>\n",
       "      <th></th>\n",
       "      <th></th>\n",
       "      <th></th>\n",
       "      <th></th>\n",
       "      <th></th>\n",
       "      <th></th>\n",
       "      <th></th>\n",
       "    </tr>\n",
       "  </thead>\n",
       "  <tbody>\n",
       "    <tr>\n",
       "      <th>cheap</th>\n",
       "      <td>27007</td>\n",
       "      <td>64</td>\n",
       "      <td>27007</td>\n",
       "      <td>208</td>\n",
       "      <td>6619.304058</td>\n",
       "      <td>0.236976</td>\n",
       "      <td>0.770171</td>\n",
       "    </tr>\n",
       "    <tr>\n",
       "      <th>expensive</th>\n",
       "      <td>3834</td>\n",
       "      <td>5</td>\n",
       "      <td>3834</td>\n",
       "      <td>10</td>\n",
       "      <td>58024.846512</td>\n",
       "      <td>0.130412</td>\n",
       "      <td>0.260824</td>\n",
       "    </tr>\n",
       "    <tr>\n",
       "      <th>mid</th>\n",
       "      <td>28542</td>\n",
       "      <td>32</td>\n",
       "      <td>28542</td>\n",
       "      <td>79</td>\n",
       "      <td>17853.098785</td>\n",
       "      <td>0.112115</td>\n",
       "      <td>0.276785</td>\n",
       "    </tr>\n",
       "  </tbody>\n",
       "</table>\n",
       "</div>"
      ],
      "text/plain": [
       "           count  arrest_made  citation_issued  search_conducted  \\\n",
       "price_bin                                                          \n",
       "cheap      27007           64            27007               208   \n",
       "expensive   3834            5             3834                10   \n",
       "mid        28542           32            28542                79   \n",
       "\n",
       "              avg price  arrest rate  search rate  \n",
       "price_bin                                          \n",
       "cheap       6619.304058     0.236976     0.770171  \n",
       "expensive  58024.846512     0.130412     0.260824  \n",
       "mid        17853.098785     0.112115     0.276785  "
      ]
     },
     "execution_count": 90,
     "metadata": {},
     "output_type": "execute_result"
    }
   ],
   "source": [
    "price_grouped['arrest rate'] = price_grouped['arrest_made']/price_grouped['count'] *100\n",
    "\n",
    "price_grouped['search rate'] = price_grouped['search_conducted']/price_grouped['count']*100\n",
    "price_grouped"
   ]
  },
  {
   "cell_type": "markdown",
   "id": "a6bb08cc",
   "metadata": {},
   "source": [
    "# CITATION RATE WRONG LOL "
   ]
  },
  {
   "cell_type": "code",
   "execution_count": 7,
   "id": "56359598",
   "metadata": {},
   "outputs": [
    {
     "data": {
      "text/html": [
       "<div>\n",
       "<style scoped>\n",
       "    .dataframe tbody tr th:only-of-type {\n",
       "        vertical-align: middle;\n",
       "    }\n",
       "\n",
       "    .dataframe tbody tr th {\n",
       "        vertical-align: top;\n",
       "    }\n",
       "\n",
       "    .dataframe thead th {\n",
       "        text-align: right;\n",
       "    }\n",
       "</style>\n",
       "<table border=\"1\" class=\"dataframe\">\n",
       "  <thead>\n",
       "    <tr style=\"text-align: right;\">\n",
       "      <th></th>\n",
       "      <th>Unnamed: 0</th>\n",
       "      <th>raw_row_number</th>\n",
       "      <th>date</th>\n",
       "      <th>time</th>\n",
       "      <th>location</th>\n",
       "      <th>lat</th>\n",
       "      <th>lng</th>\n",
       "      <th>district</th>\n",
       "      <th>subject_age</th>\n",
       "      <th>subject_race</th>\n",
       "      <th>...</th>\n",
       "      <th>raw_race</th>\n",
       "      <th>raw_posted_speed</th>\n",
       "      <th>raw_actual_speed</th>\n",
       "      <th>raw_search_reason</th>\n",
       "      <th>raw_contraband_or_evidence</th>\n",
       "      <th>raw_custodial_arrest_made</th>\n",
       "      <th>make_model</th>\n",
       "      <th>age</th>\n",
       "      <th>price</th>\n",
       "      <th>price_bin</th>\n",
       "    </tr>\n",
       "    <tr>\n",
       "      <th>substation</th>\n",
       "      <th></th>\n",
       "      <th></th>\n",
       "      <th></th>\n",
       "      <th></th>\n",
       "      <th></th>\n",
       "      <th></th>\n",
       "      <th></th>\n",
       "      <th></th>\n",
       "      <th></th>\n",
       "      <th></th>\n",
       "      <th></th>\n",
       "      <th></th>\n",
       "      <th></th>\n",
       "      <th></th>\n",
       "      <th></th>\n",
       "      <th></th>\n",
       "      <th></th>\n",
       "      <th></th>\n",
       "      <th></th>\n",
       "      <th></th>\n",
       "      <th></th>\n",
       "    </tr>\n",
       "  </thead>\n",
       "  <tbody>\n",
       "    <tr>\n",
       "      <th>CENTRAL</th>\n",
       "      <td>6348</td>\n",
       "      <td>6348</td>\n",
       "      <td>6348</td>\n",
       "      <td>6348</td>\n",
       "      <td>6348</td>\n",
       "      <td>6348</td>\n",
       "      <td>6348</td>\n",
       "      <td>6348</td>\n",
       "      <td>6347</td>\n",
       "      <td>6346</td>\n",
       "      <td>...</td>\n",
       "      <td>6346</td>\n",
       "      <td>6348</td>\n",
       "      <td>6348</td>\n",
       "      <td>1391</td>\n",
       "      <td>1392</td>\n",
       "      <td>1339</td>\n",
       "      <td>6348</td>\n",
       "      <td>6348</td>\n",
       "      <td>6347</td>\n",
       "      <td>6348</td>\n",
       "    </tr>\n",
       "    <tr>\n",
       "      <th>EAST</th>\n",
       "      <td>9211</td>\n",
       "      <td>9211</td>\n",
       "      <td>9211</td>\n",
       "      <td>9211</td>\n",
       "      <td>9211</td>\n",
       "      <td>9211</td>\n",
       "      <td>9211</td>\n",
       "      <td>9211</td>\n",
       "      <td>9211</td>\n",
       "      <td>9210</td>\n",
       "      <td>...</td>\n",
       "      <td>9210</td>\n",
       "      <td>9211</td>\n",
       "      <td>9211</td>\n",
       "      <td>1062</td>\n",
       "      <td>1060</td>\n",
       "      <td>1038</td>\n",
       "      <td>9211</td>\n",
       "      <td>9211</td>\n",
       "      <td>9210</td>\n",
       "      <td>9211</td>\n",
       "    </tr>\n",
       "    <tr>\n",
       "      <th>NORTH</th>\n",
       "      <td>10614</td>\n",
       "      <td>10614</td>\n",
       "      <td>10614</td>\n",
       "      <td>10614</td>\n",
       "      <td>10614</td>\n",
       "      <td>10614</td>\n",
       "      <td>10614</td>\n",
       "      <td>10614</td>\n",
       "      <td>10614</td>\n",
       "      <td>10612</td>\n",
       "      <td>...</td>\n",
       "      <td>10612</td>\n",
       "      <td>10614</td>\n",
       "      <td>10614</td>\n",
       "      <td>1158</td>\n",
       "      <td>1158</td>\n",
       "      <td>1132</td>\n",
       "      <td>10614</td>\n",
       "      <td>10614</td>\n",
       "      <td>10613</td>\n",
       "      <td>10614</td>\n",
       "    </tr>\n",
       "    <tr>\n",
       "      <th>PRUE</th>\n",
       "      <td>10161</td>\n",
       "      <td>10161</td>\n",
       "      <td>10161</td>\n",
       "      <td>10161</td>\n",
       "      <td>10161</td>\n",
       "      <td>10161</td>\n",
       "      <td>10161</td>\n",
       "      <td>10161</td>\n",
       "      <td>10161</td>\n",
       "      <td>10161</td>\n",
       "      <td>...</td>\n",
       "      <td>10161</td>\n",
       "      <td>10161</td>\n",
       "      <td>10161</td>\n",
       "      <td>1343</td>\n",
       "      <td>1342</td>\n",
       "      <td>1320</td>\n",
       "      <td>10161</td>\n",
       "      <td>10161</td>\n",
       "      <td>10161</td>\n",
       "      <td>10161</td>\n",
       "    </tr>\n",
       "    <tr>\n",
       "      <th>SOUTH</th>\n",
       "      <td>14255</td>\n",
       "      <td>14255</td>\n",
       "      <td>14255</td>\n",
       "      <td>14255</td>\n",
       "      <td>14255</td>\n",
       "      <td>14255</td>\n",
       "      <td>14255</td>\n",
       "      <td>14255</td>\n",
       "      <td>14255</td>\n",
       "      <td>14249</td>\n",
       "      <td>...</td>\n",
       "      <td>14249</td>\n",
       "      <td>14255</td>\n",
       "      <td>14255</td>\n",
       "      <td>1184</td>\n",
       "      <td>1184</td>\n",
       "      <td>1148</td>\n",
       "      <td>14255</td>\n",
       "      <td>14255</td>\n",
       "      <td>14253</td>\n",
       "      <td>14255</td>\n",
       "    </tr>\n",
       "    <tr>\n",
       "      <th>WEST</th>\n",
       "      <td>8794</td>\n",
       "      <td>8794</td>\n",
       "      <td>8794</td>\n",
       "      <td>8794</td>\n",
       "      <td>8794</td>\n",
       "      <td>8794</td>\n",
       "      <td>8794</td>\n",
       "      <td>8794</td>\n",
       "      <td>8794</td>\n",
       "      <td>8792</td>\n",
       "      <td>...</td>\n",
       "      <td>8792</td>\n",
       "      <td>8794</td>\n",
       "      <td>8794</td>\n",
       "      <td>1017</td>\n",
       "      <td>1017</td>\n",
       "      <td>975</td>\n",
       "      <td>8794</td>\n",
       "      <td>8794</td>\n",
       "      <td>8792</td>\n",
       "      <td>8794</td>\n",
       "    </tr>\n",
       "  </tbody>\n",
       "</table>\n",
       "<p>6 rows × 36 columns</p>\n",
       "</div>"
      ],
      "text/plain": [
       "            Unnamed: 0  raw_row_number   date   time  location    lat    lng  \\\n",
       "substation                                                                     \n",
       "CENTRAL           6348            6348   6348   6348      6348   6348   6348   \n",
       "EAST              9211            9211   9211   9211      9211   9211   9211   \n",
       "NORTH            10614           10614  10614  10614     10614  10614  10614   \n",
       "PRUE             10161           10161  10161  10161     10161  10161  10161   \n",
       "SOUTH            14255           14255  14255  14255     14255  14255  14255   \n",
       "WEST              8794            8794   8794   8794      8794   8794   8794   \n",
       "\n",
       "            district  subject_age  subject_race  ...  raw_race  \\\n",
       "substation                                       ...             \n",
       "CENTRAL         6348         6347          6346  ...      6346   \n",
       "EAST            9211         9211          9210  ...      9210   \n",
       "NORTH          10614        10614         10612  ...     10612   \n",
       "PRUE           10161        10161         10161  ...     10161   \n",
       "SOUTH          14255        14255         14249  ...     14249   \n",
       "WEST            8794         8794          8792  ...      8792   \n",
       "\n",
       "            raw_posted_speed  raw_actual_speed  raw_search_reason  \\\n",
       "substation                                                          \n",
       "CENTRAL                 6348              6348               1391   \n",
       "EAST                    9211              9211               1062   \n",
       "NORTH                  10614             10614               1158   \n",
       "PRUE                   10161             10161               1343   \n",
       "SOUTH                  14255             14255               1184   \n",
       "WEST                    8794              8794               1017   \n",
       "\n",
       "            raw_contraband_or_evidence  raw_custodial_arrest_made  make_model  \\\n",
       "substation                                                                      \n",
       "CENTRAL                           1392                       1339        6348   \n",
       "EAST                              1060                       1038        9211   \n",
       "NORTH                             1158                       1132       10614   \n",
       "PRUE                              1342                       1320       10161   \n",
       "SOUTH                             1184                       1148       14255   \n",
       "WEST                              1017                        975        8794   \n",
       "\n",
       "              age  price  price_bin  \n",
       "substation                           \n",
       "CENTRAL      6348   6347       6348  \n",
       "EAST         9211   9210       9211  \n",
       "NORTH       10614  10613      10614  \n",
       "PRUE        10161  10161      10161  \n",
       "SOUTH       14255  14253      14255  \n",
       "WEST         8794   8792       8794  \n",
       "\n",
       "[6 rows x 36 columns]"
      ]
     },
     "execution_count": 7,
     "metadata": {},
     "output_type": "execute_result"
    }
   ],
   "source": [
    "df.groupby('substation').count()"
   ]
  },
  {
   "cell_type": "code",
   "execution_count": 68,
   "id": "dd1d00e6",
   "metadata": {},
   "outputs": [],
   "source": [
    "districts = df.groupby('district').sum()\n",
    "districts_count = df.groupby('district').count()\n",
    "districts['count'] = districts_count['raw_row_number']\n",
    "districts['avg price'] = df.groupby('district').mean()['price']\n",
    "districts = districts[['count', 'arrest_made', 'citation_issued','search_conducted', 'avg price']]\n"
   ]
  },
  {
   "cell_type": "code",
   "execution_count": 69,
   "id": "b0299a4f",
   "metadata": {},
   "outputs": [],
   "source": [
    "districts['arrest rate'] = districts['arrest_made']/districts['count'] *100\n",
    "districts['citation rate'] = districts['citation_issued']/sum(districts['count'])*100\n",
    "districts['search rate'] = districts['search_conducted']/districts['count']*100\n"
   ]
  },
  {
   "cell_type": "code",
   "execution_count": 70,
   "id": "3be55fb7",
   "metadata": {
    "scrolled": true
   },
   "outputs": [
    {
     "data": {
      "text/html": [
       "<div>\n",
       "<style scoped>\n",
       "    .dataframe tbody tr th:only-of-type {\n",
       "        vertical-align: middle;\n",
       "    }\n",
       "\n",
       "    .dataframe tbody tr th {\n",
       "        vertical-align: top;\n",
       "    }\n",
       "\n",
       "    .dataframe thead th {\n",
       "        text-align: right;\n",
       "    }\n",
       "</style>\n",
       "<table border=\"1\" class=\"dataframe\">\n",
       "  <thead>\n",
       "    <tr style=\"text-align: right;\">\n",
       "      <th></th>\n",
       "      <th>count</th>\n",
       "      <th>arrest_made</th>\n",
       "      <th>citation_issued</th>\n",
       "      <th>search_conducted</th>\n",
       "      <th>avg price</th>\n",
       "      <th>arrest rate</th>\n",
       "      <th>citation rate</th>\n",
       "      <th>search rate</th>\n",
       "    </tr>\n",
       "    <tr>\n",
       "      <th>district</th>\n",
       "      <th></th>\n",
       "      <th></th>\n",
       "      <th></th>\n",
       "      <th></th>\n",
       "      <th></th>\n",
       "      <th></th>\n",
       "      <th></th>\n",
       "      <th></th>\n",
       "    </tr>\n",
       "  </thead>\n",
       "  <tbody>\n",
       "    <tr>\n",
       "      <th>7260.0</th>\n",
       "      <td>2202</td>\n",
       "      <td>1</td>\n",
       "      <td>2202</td>\n",
       "      <td>4</td>\n",
       "      <td>18822.519083</td>\n",
       "      <td>0.045413</td>\n",
       "      <td>3.708132</td>\n",
       "      <td>0.181653</td>\n",
       "    </tr>\n",
       "    <tr>\n",
       "      <th>3310.0</th>\n",
       "      <td>482</td>\n",
       "      <td>1</td>\n",
       "      <td>482</td>\n",
       "      <td>2</td>\n",
       "      <td>18697.896281</td>\n",
       "      <td>0.207469</td>\n",
       "      <td>0.811680</td>\n",
       "      <td>0.414938</td>\n",
       "    </tr>\n",
       "    <tr>\n",
       "      <th>4120.0</th>\n",
       "      <td>1614</td>\n",
       "      <td>0</td>\n",
       "      <td>1614</td>\n",
       "      <td>1</td>\n",
       "      <td>18530.118694</td>\n",
       "      <td>0.000000</td>\n",
       "      <td>2.717950</td>\n",
       "      <td>0.061958</td>\n",
       "    </tr>\n",
       "    <tr>\n",
       "      <th>3170.0</th>\n",
       "      <td>399</td>\n",
       "      <td>1</td>\n",
       "      <td>399</td>\n",
       "      <td>1</td>\n",
       "      <td>18235.024436</td>\n",
       "      <td>0.250627</td>\n",
       "      <td>0.671909</td>\n",
       "      <td>0.250627</td>\n",
       "    </tr>\n",
       "    <tr>\n",
       "      <th>3370.0</th>\n",
       "      <td>61</td>\n",
       "      <td>1</td>\n",
       "      <td>61</td>\n",
       "      <td>4</td>\n",
       "      <td>18193.385723</td>\n",
       "      <td>1.639344</td>\n",
       "      <td>0.102723</td>\n",
       "      <td>6.557377</td>\n",
       "    </tr>\n",
       "    <tr>\n",
       "      <th>...</th>\n",
       "      <td>...</td>\n",
       "      <td>...</td>\n",
       "      <td>...</td>\n",
       "      <td>...</td>\n",
       "      <td>...</td>\n",
       "      <td>...</td>\n",
       "      <td>...</td>\n",
       "      <td>...</td>\n",
       "    </tr>\n",
       "    <tr>\n",
       "      <th>7110.0</th>\n",
       "      <td>88</td>\n",
       "      <td>2</td>\n",
       "      <td>88</td>\n",
       "      <td>3</td>\n",
       "      <td>10893.844766</td>\n",
       "      <td>2.272727</td>\n",
       "      <td>0.148191</td>\n",
       "      <td>3.409091</td>\n",
       "    </tr>\n",
       "    <tr>\n",
       "      <th>2350.0</th>\n",
       "      <td>108</td>\n",
       "      <td>1</td>\n",
       "      <td>108</td>\n",
       "      <td>7</td>\n",
       "      <td>10806.628836</td>\n",
       "      <td>0.925926</td>\n",
       "      <td>0.181870</td>\n",
       "      <td>6.481481</td>\n",
       "    </tr>\n",
       "    <tr>\n",
       "      <th>5250.0</th>\n",
       "      <td>175</td>\n",
       "      <td>0</td>\n",
       "      <td>175</td>\n",
       "      <td>1</td>\n",
       "      <td>10654.979743</td>\n",
       "      <td>0.000000</td>\n",
       "      <td>0.294697</td>\n",
       "      <td>0.571429</td>\n",
       "    </tr>\n",
       "    <tr>\n",
       "      <th>4230.0</th>\n",
       "      <td>133</td>\n",
       "      <td>1</td>\n",
       "      <td>133</td>\n",
       "      <td>3</td>\n",
       "      <td>10216.188581</td>\n",
       "      <td>0.751880</td>\n",
       "      <td>0.223970</td>\n",
       "      <td>2.255639</td>\n",
       "    </tr>\n",
       "    <tr>\n",
       "      <th>2320.0</th>\n",
       "      <td>288</td>\n",
       "      <td>3</td>\n",
       "      <td>288</td>\n",
       "      <td>11</td>\n",
       "      <td>9907.664365</td>\n",
       "      <td>1.041667</td>\n",
       "      <td>0.484987</td>\n",
       "      <td>3.819444</td>\n",
       "    </tr>\n",
       "  </tbody>\n",
       "</table>\n",
       "<p>115 rows × 8 columns</p>\n",
       "</div>"
      ],
      "text/plain": [
       "          count  arrest_made  citation_issued  search_conducted     avg price  \\\n",
       "district                                                                        \n",
       "7260.0     2202            1             2202                 4  18822.519083   \n",
       "3310.0      482            1              482                 2  18697.896281   \n",
       "4120.0     1614            0             1614                 1  18530.118694   \n",
       "3170.0      399            1              399                 1  18235.024436   \n",
       "3370.0       61            1               61                 4  18193.385723   \n",
       "...         ...          ...              ...               ...           ...   \n",
       "7110.0       88            2               88                 3  10893.844766   \n",
       "2350.0      108            1              108                 7  10806.628836   \n",
       "5250.0      175            0              175                 1  10654.979743   \n",
       "4230.0      133            1              133                 3  10216.188581   \n",
       "2320.0      288            3              288                11   9907.664365   \n",
       "\n",
       "          arrest rate  citation rate  search rate  \n",
       "district                                           \n",
       "7260.0       0.045413       3.708132     0.181653  \n",
       "3310.0       0.207469       0.811680     0.414938  \n",
       "4120.0       0.000000       2.717950     0.061958  \n",
       "3170.0       0.250627       0.671909     0.250627  \n",
       "3370.0       1.639344       0.102723     6.557377  \n",
       "...               ...            ...          ...  \n",
       "7110.0       2.272727       0.148191     3.409091  \n",
       "2350.0       0.925926       0.181870     6.481481  \n",
       "5250.0       0.000000       0.294697     0.571429  \n",
       "4230.0       0.751880       0.223970     2.255639  \n",
       "2320.0       1.041667       0.484987     3.819444  \n",
       "\n",
       "[115 rows x 8 columns]"
      ]
     },
     "execution_count": 70,
     "metadata": {},
     "output_type": "execute_result"
    }
   ],
   "source": [
    "districts.sort_values('avg price', ascending=False)"
   ]
  },
  {
   "cell_type": "markdown",
   "id": "7e44f7b7",
   "metadata": {},
   "source": [
    "# FIX CITATION RATE, CORRELATE CAR PRICE AND STATS"
   ]
  },
  {
   "cell_type": "code",
   "execution_count": 85,
   "id": "0ee02acc",
   "metadata": {
    "scrolled": true
   },
   "outputs": [
    {
     "name": "stderr",
     "output_type": "stream",
     "text": [
      "/opt/conda/lib/python3.9/site-packages/seaborn/_decorators.py:36: FutureWarning: Pass the following variables as keyword args: x, y. From version 0.12, the only valid positional argument will be `data`, and passing other arguments without an explicit keyword will result in an error or misinterpretation.\n",
      "  warnings.warn(\n"
     ]
    },
    {
     "data": {
      "text/plain": [
       "Text(0, 0.5, 'Search Rate In Each District')"
      ]
     },
     "execution_count": 85,
     "metadata": {},
     "output_type": "execute_result"
    },
    {
     "data": {
      "image/png": "[encoded data removed]",
      "text/plain": [
       "<Figure size 432x288 with 1 Axes>"
      ]
     },
     "metadata": {
      "needs_background": "light"
     },
     "output_type": "display_data"
    }
   ],
   "source": [
    "p = sns.regplot(districts['avg price'], districts['search rate'])\n",
    "p.set(title='San Antonio \\n Average Car Price of District vs Search Rate')\n",
    "p.set_xlabel('Average Car Price Per District')\n",
    "p.set_ylabel('Search Rate In Each District')\n"
   ]
  },
  {
   "cell_type": "code",
   "execution_count": 86,
   "id": "783825bf",
   "metadata": {},
   "outputs": [
    {
     "name": "stderr",
     "output_type": "stream",
     "text": [
      "/opt/conda/lib/python3.9/site-packages/seaborn/_decorators.py:36: FutureWarning: Pass the following variables as keyword args: x, y. From version 0.12, the only valid positional argument will be `data`, and passing other arguments without an explicit keyword will result in an error or misinterpretation.\n",
      "  warnings.warn(\n"
     ]
    },
    {
     "data": {
      "text/plain": [
       "Text(0, 0.5, 'Arrest Rate In Each District')"
      ]
     },
     "execution_count": 86,
     "metadata": {},
     "output_type": "execute_result"
    },
    {
     "data": {
      "image/png": "[encoded data removed]",
      "text/plain": [
       "<Figure size 432x288 with 1 Axes>"
      ]
     },
     "metadata": {
      "needs_background": "light"
     },
     "output_type": "display_data"
    }
   ],
   "source": [
    "p = sns.regplot(districts['avg price'], districts['arrest rate'])\n",
    "p.set(title='San Antonio \\n Average Car Price of District vs Arrest Rate')\n",
    "p.set_xlabel('Average Car Price Per District')\n",
    "p.set_ylabel('Arrest Rate In Each District')\n"
   ]
  },
  {
   "cell_type": "code",
   "execution_count": 13,
   "id": "4441a0e9",
   "metadata": {},
   "outputs": [
    {
     "data": {
      "text/html": [
       "<div>\n",
       "<style scoped>\n",
       "    .dataframe tbody tr th:only-of-type {\n",
       "        vertical-align: middle;\n",
       "    }\n",
       "\n",
       "    .dataframe tbody tr th {\n",
       "        vertical-align: top;\n",
       "    }\n",
       "\n",
       "    .dataframe thead th {\n",
       "        text-align: right;\n",
       "    }\n",
       "</style>\n",
       "<table border=\"1\" class=\"dataframe\">\n",
       "  <thead>\n",
       "    <tr style=\"text-align: right;\">\n",
       "      <th></th>\n",
       "      <th>subject_race</th>\n",
       "      <th>count</th>\n",
       "      <th>arrest_made</th>\n",
       "      <th>citation_issued</th>\n",
       "      <th>search_conducted</th>\n",
       "      <th>avg price</th>\n",
       "    </tr>\n",
       "  </thead>\n",
       "  <tbody>\n",
       "    <tr>\n",
       "      <th>0</th>\n",
       "      <td>asian/pacific islander</td>\n",
       "      <td>918</td>\n",
       "      <td>0</td>\n",
       "      <td>918</td>\n",
       "      <td>0</td>\n",
       "      <td>15238.674113</td>\n",
       "    </tr>\n",
       "    <tr>\n",
       "      <th>1</th>\n",
       "      <td>black</td>\n",
       "      <td>5838</td>\n",
       "      <td>13</td>\n",
       "      <td>5838</td>\n",
       "      <td>44</td>\n",
       "      <td>13147.395639</td>\n",
       "    </tr>\n",
       "    <tr>\n",
       "      <th>2</th>\n",
       "      <td>hispanic</td>\n",
       "      <td>30972</td>\n",
       "      <td>50</td>\n",
       "      <td>30972</td>\n",
       "      <td>154</td>\n",
       "      <td>14613.640179</td>\n",
       "    </tr>\n",
       "    <tr>\n",
       "      <th>3</th>\n",
       "      <td>other</td>\n",
       "      <td>1733</td>\n",
       "      <td>0</td>\n",
       "      <td>1733</td>\n",
       "      <td>5</td>\n",
       "      <td>14880.936691</td>\n",
       "    </tr>\n",
       "    <tr>\n",
       "      <th>4</th>\n",
       "      <td>unknown</td>\n",
       "      <td>39</td>\n",
       "      <td>0</td>\n",
       "      <td>39</td>\n",
       "      <td>0</td>\n",
       "      <td>13287.181600</td>\n",
       "    </tr>\n",
       "    <tr>\n",
       "      <th>5</th>\n",
       "      <td>white</td>\n",
       "      <td>25703</td>\n",
       "      <td>39</td>\n",
       "      <td>25703</td>\n",
       "      <td>107</td>\n",
       "      <td>16812.132795</td>\n",
       "    </tr>\n",
       "  </tbody>\n",
       "</table>\n",
       "</div>"
      ],
      "text/plain": [
       "             subject_race  count  arrest_made  citation_issued  \\\n",
       "0  asian/pacific islander    918            0              918   \n",
       "1                   black   5838           13             5838   \n",
       "2                hispanic  30972           50            30972   \n",
       "3                   other   1733            0             1733   \n",
       "4                 unknown     39            0               39   \n",
       "5                   white  25703           39            25703   \n",
       "\n",
       "   search_conducted     avg price  \n",
       "0                 0  15238.674113  \n",
       "1                44  13147.395639  \n",
       "2               154  14613.640179  \n",
       "3                 5  14880.936691  \n",
       "4                 0  13287.181600  \n",
       "5               107  16812.132795  "
      ]
     },
     "execution_count": 13,
     "metadata": {},
     "output_type": "execute_result"
    }
   ],
   "source": [
    "race = df.groupby('subject_race').sum()\n",
    "race_count = df.groupby('subject_race').count()\n",
    "race['count'] = race_count['raw_row_number']\n",
    "race['avg price'] = df.groupby('subject_race').mean()['price']\n",
    "race = race[['count', 'arrest_made', 'citation_issued','search_conducted', 'avg price']]\n",
    "race = race.reset_index()\n",
    "race"
   ]
  },
  {
   "cell_type": "code",
   "execution_count": 14,
   "id": "93882aab",
   "metadata": {},
   "outputs": [
    {
     "data": {
      "text/plain": [
       "<AxesSubplot:xlabel='subject_race', ylabel='avg price'>"
      ]
     },
     "execution_count": 14,
     "metadata": {},
     "output_type": "execute_result"
    },
    {
     "data": {
      "image/png": "[encoded data removed]",
      "text/plain": [
       "<Figure size 432x288 with 1 Axes>"
      ]
     },
     "metadata": {
      "needs_background": "light"
     },
     "output_type": "display_data"
    }
   ],
   "source": [
    "race.plot.scatter('subject_race', 'avg price')"
   ]
  },
  {
   "cell_type": "markdown",
   "id": "d96a2630",
   "metadata": {},
   "source": [
    "price relative to census area\n",
    "is car stopped in area on average more expensive or less expensive\n"
   ]
  },
  {
   "cell_type": "code",
   "execution_count": 15,
   "id": "53783b53",
   "metadata": {
    "scrolled": true
   },
   "outputs": [
    {
     "name": "stderr",
     "output_type": "stream",
     "text": [
      "/home/jasheu/.local/lib/python3.9/site-packages/geopandas/geodataframe.py:1351: SettingWithCopyWarning: \n",
      "A value is trying to be set on a copy of a slice from a DataFrame.\n",
      "Try using .loc[row_indexer,col_indexer] = value instead\n",
      "\n",
      "See the caveats in the documentation: https://pandas.pydata.org/pandas-docs/stable/user_guide/indexing.html#returning-a-view-versus-a-copy\n",
      "  super().__setitem__(key, value)\n"
     ]
    }
   ],
   "source": [
    "open_sa = \"tx_merged.csv\"\n",
    "open_data = pd.read_csv(open_sa)\n",
    "\n",
    "census_file = \"nhgis0005_ds239_20185_blck_grp.csv\"\n",
    "census_df = pd.read_csv(census_file)\n",
    "\n",
    "use = ['GISJOIN','COUNTY','AJZAE001']\n",
    "census_df = pd.read_csv(census_file, usecols = use)\n",
    "# Bexar County is San Antonio\n",
    "census_df = census_df.loc[census_df['COUNTY'] == 'Bexar County']\n",
    "#census_df\n",
    "\n",
    "\n",
    "url = \"TX_blck_grp_2018.shx\"\n",
    "census_gdf = geopandas.read_file(url)\n",
    "census_shape = census_gdf[['GISJOIN','geometry']]\n",
    "\n",
    "census_shape['GISJOIN'] = census_shape['GISJOIN'].str.slice(stop = 15)\n",
    "\n",
    "census_joined = census_shape.merge(census_df, on = 'GISJOIN')\n",
    "census_joined = census_joined.to_crs(epsg = 2230)"
   ]
  },
  {
   "cell_type": "code",
   "execution_count": 16,
   "id": "4d5209ec",
   "metadata": {},
   "outputs": [
    {
     "data": {
      "text/plain": [
       "<AxesSubplot:>"
      ]
     },
     "execution_count": 16,
     "metadata": {},
     "output_type": "execute_result"
    },
    {
     "data": {
      "image/png": "[encoded data removed]",
      "text/plain": [
       "<Figure size 432x288 with 2 Axes>"
      ]
     },
     "metadata": {
      "needs_background": "light"
     },
     "output_type": "display_data"
    }
   ],
   "source": [
    "census_joined.plot(column = 'AJZAE001', legend\n",
    "                   = True)\n"
   ]
  },
  {
   "cell_type": "code",
   "execution_count": 17,
   "id": "7d4e07f0",
   "metadata": {},
   "outputs": [],
   "source": [
    "gdf = geopandas.GeoDataFrame(open_data, geometry=geopandas.points_from_xy(open_data['lng'], open_data['lat']))\n",
    "gdf = gdf.loc[(gdf['lng'].isna()) == False]\n",
    "gdf = gdf.loc[(gdf['lat'].isna()) == False]\n",
    "gdf = gdf.set_crs(epsg = 4326)\n",
    "gdf = gdf.to_crs(epsg = 2230)"
   ]
  },
  {
   "cell_type": "code",
   "execution_count": 18,
   "id": "17c899e3",
   "metadata": {},
   "outputs": [],
   "source": [
    "join_df = gdf.sjoin(census_joined, how=\"inner\")"
   ]
  },
  {
   "cell_type": "code",
   "execution_count": 19,
   "id": "853ca2c2",
   "metadata": {},
   "outputs": [],
   "source": [
    "substations = join_df.loc[join_df['substation'].isna()==False]"
   ]
  },
  {
   "cell_type": "code",
   "execution_count": 20,
   "id": "5388238b",
   "metadata": {},
   "outputs": [],
   "source": [
    "df = substations"
   ]
  },
  {
   "cell_type": "code",
   "execution_count": 21,
   "id": "93c1ac35",
   "metadata": {},
   "outputs": [],
   "source": [
    "sub = df.groupby('district').sum()\n",
    "sub_count = df.groupby('district').count()\n",
    "sub['count'] = sub_count['raw_row_number']\n",
    "sub['avg price'] = df.groupby('district').mean()['price']\n",
    "sub['avg income'] = df.groupby('district').mean()['AJZAE001']\n",
    "sub = sub[['count', 'arrest_made', 'citation_issued','search_conducted', 'avg price', 'avg income']]\n",
    "sub = sub.reset_index()\n",
    "\n",
    "\n",
    "sub['arrest rate'] = sub['arrest_made']/sub['count'] *100\n",
    "sub['search rate'] = sub['search_conducted']/sub['count']*100\n"
   ]
  },
  {
   "cell_type": "code",
   "execution_count": 22,
   "id": "b2de7d35",
   "metadata": {},
   "outputs": [
    {
     "name": "stderr",
     "output_type": "stream",
     "text": [
      "/opt/conda/lib/python3.9/site-packages/seaborn/_decorators.py:36: FutureWarning: Pass the following variables as keyword args: x, y. From version 0.12, the only valid positional argument will be `data`, and passing other arguments without an explicit keyword will result in an error or misinterpretation.\n",
      "  warnings.warn(\n"
     ]
    },
    {
     "data": {
      "text/plain": [
       "[Text(0.5, 1.0, 'Average Income of District vs Arrest Rate')]"
      ]
     },
     "execution_count": 22,
     "metadata": {},
     "output_type": "execute_result"
    },
    {
     "data": {
      "image/png": "[encoded data removed]",
      "text/plain": [
       "<Figure size 432x288 with 1 Axes>"
      ]
     },
     "metadata": {
      "needs_background": "light"
     },
     "output_type": "display_data"
    }
   ],
   "source": [
    "sns.regplot(sub['avg income'], sub['arrest rate']).set(title='Average Income of District vs Arrest Rate')"
   ]
  },
  {
   "cell_type": "code",
   "execution_count": 23,
   "id": "f6991264",
   "metadata": {},
   "outputs": [
    {
     "name": "stderr",
     "output_type": "stream",
     "text": [
      "/opt/conda/lib/python3.9/site-packages/seaborn/_decorators.py:36: FutureWarning: Pass the following variables as keyword args: x, y. From version 0.12, the only valid positional argument will be `data`, and passing other arguments without an explicit keyword will result in an error or misinterpretation.\n",
      "  warnings.warn(\n"
     ]
    },
    {
     "data": {
      "text/plain": [
       "[Text(0.5, 1.0, 'Average Income of District vs Search Rate')]"
      ]
     },
     "execution_count": 23,
     "metadata": {},
     "output_type": "execute_result"
    },
    {
     "data": {
      "image/png": "[encoded data removed]",
      "text/plain": [
       "<Figure size 432x288 with 1 Axes>"
      ]
     },
     "metadata": {
      "needs_background": "light"
     },
     "output_type": "display_data"
    }
   ],
   "source": [
    "sns.regplot(sub['avg income'], sub['search rate']).set(title='Average Income of District vs Search Rate')"
   ]
  },
  {
   "cell_type": "code",
   "execution_count": 24,
   "id": "8cdb16de",
   "metadata": {},
   "outputs": [
    {
     "name": "stderr",
     "output_type": "stream",
     "text": [
      "/opt/conda/lib/python3.9/site-packages/seaborn/_decorators.py:36: FutureWarning: Pass the following variables as keyword args: x, y. From version 0.12, the only valid positional argument will be `data`, and passing other arguments without an explicit keyword will result in an error or misinterpretation.\n",
      "  warnings.warn(\n"
     ]
    },
    {
     "data": {
      "text/plain": [
       "[Text(0.5, 1.0, 'Average Income of District vs Average Car price')]"
      ]
     },
     "execution_count": 24,
     "metadata": {},
     "output_type": "execute_result"
    },
    {
     "data": {
      "image/png": "[encoded data removed]",
      "text/plain": [
       "<Figure size 432x288 with 1 Axes>"
      ]
     },
     "metadata": {
      "needs_background": "light"
     },
     "output_type": "display_data"
    }
   ],
   "source": [
    "sns.regplot(sub['avg income'], sub['avg price']).set(title='Average Income of District vs Average Car price')"
   ]
  },
  {
   "cell_type": "code",
   "execution_count": 25,
   "id": "bd21980e",
   "metadata": {
    "scrolled": false
   },
   "outputs": [],
   "source": [
    "districts = list(df['district'].unique())\n"
   ]
  },
  {
   "cell_type": "code",
   "execution_count": 26,
   "id": "6b6681e4",
   "metadata": {},
   "outputs": [
    {
     "data": {
      "text/html": [
       "<div>\n",
       "<style scoped>\n",
       "    .dataframe tbody tr th:only-of-type {\n",
       "        vertical-align: middle;\n",
       "    }\n",
       "\n",
       "    .dataframe tbody tr th {\n",
       "        vertical-align: top;\n",
       "    }\n",
       "\n",
       "    .dataframe thead th {\n",
       "        text-align: right;\n",
       "    }\n",
       "</style>\n",
       "<table border=\"1\" class=\"dataframe\">\n",
       "  <thead>\n",
       "    <tr style=\"text-align: right;\">\n",
       "      <th></th>\n",
       "    </tr>\n",
       "  </thead>\n",
       "  <tbody>\n",
       "    <tr>\n",
       "      <th>0</th>\n",
       "    </tr>\n",
       "    <tr>\n",
       "      <th>1</th>\n",
       "    </tr>\n",
       "    <tr>\n",
       "      <th>118</th>\n",
       "    </tr>\n",
       "    <tr>\n",
       "      <th>261</th>\n",
       "    </tr>\n",
       "    <tr>\n",
       "      <th>289</th>\n",
       "    </tr>\n",
       "    <tr>\n",
       "      <th>...</th>\n",
       "    </tr>\n",
       "    <tr>\n",
       "      <th>33453</th>\n",
       "    </tr>\n",
       "    <tr>\n",
       "      <th>36601</th>\n",
       "    </tr>\n",
       "    <tr>\n",
       "      <th>38646</th>\n",
       "    </tr>\n",
       "    <tr>\n",
       "      <th>50622</th>\n",
       "    </tr>\n",
       "    <tr>\n",
       "      <th>52967</th>\n",
       "    </tr>\n",
       "  </tbody>\n",
       "</table>\n",
       "<p>2315 rows × 0 columns</p>\n",
       "</div>"
      ],
      "text/plain": [
       "Empty DataFrame\n",
       "Columns: []\n",
       "Index: [0, 1, 118, 261, 289, 635, 774, 789, 1043, 1044, 1226, 1651, 1842, 2300, 2301, 2386, 2618, 2671, 2685, 2705, 2761, 2776, 2792, 3245, 3246, 3259, 3280, 3466, 3508, 3598, 3662, 3939, 3949, 4000, 4054, 4321, 4335, 4546, 4877, 4878, 4950, 4977, 5161, 5569, 5666, 5773, 5938, 7065, 7115, 7164, 7256, 7457, 7501, 7617, 7674, 7880, 8077, 8116, 8123, 8256, 8310, 8570, 9291, 10566, 10652, 10700, 10716, 10798, 10906, 11099, 11151, 11400, 11433, 11464, 11488, 11489, 11731, 11901, 11986, 12219, 12324, 12345, 12419, 12876, 13145, 13159, 13386, 13439, 13507, 13735, 14229, 14299, 14321, 14384, 14432, 14528, 14586, 14748, 14754, 15074, ...]\n",
       "\n",
       "[2315 rows x 0 columns]"
      ]
     },
     "execution_count": 26,
     "metadata": {},
     "output_type": "execute_result"
    }
   ],
   "source": [
    "df.where(df['district'] == districts[0]).dropna(how='all')[[]]"
   ]
  },
  {
   "cell_type": "code",
   "execution_count": 27,
   "id": "25bd65a7",
   "metadata": {
    "scrolled": true
   },
   "outputs": [
    {
     "data": {
      "text/html": [
       "<div>\n",
       "<style scoped>\n",
       "    .dataframe tbody tr th:only-of-type {\n",
       "        vertical-align: middle;\n",
       "    }\n",
       "\n",
       "    .dataframe tbody tr th {\n",
       "        vertical-align: top;\n",
       "    }\n",
       "\n",
       "    .dataframe thead th {\n",
       "        text-align: right;\n",
       "    }\n",
       "</style>\n",
       "<table border=\"1\" class=\"dataframe\">\n",
       "  <thead>\n",
       "    <tr style=\"text-align: right;\">\n",
       "      <th></th>\n",
       "      <th>search rate</th>\n",
       "      <th>avg price</th>\n",
       "    </tr>\n",
       "  </thead>\n",
       "  <tbody>\n",
       "    <tr>\n",
       "      <th>search rate</th>\n",
       "      <td>1.000000</td>\n",
       "      <td>-0.390211</td>\n",
       "    </tr>\n",
       "    <tr>\n",
       "      <th>avg price</th>\n",
       "      <td>-0.390211</td>\n",
       "      <td>1.000000</td>\n",
       "    </tr>\n",
       "  </tbody>\n",
       "</table>\n",
       "</div>"
      ],
      "text/plain": [
       "             search rate  avg price\n",
       "search rate     1.000000  -0.390211\n",
       "avg price      -0.390211   1.000000"
      ]
     },
     "execution_count": 27,
     "metadata": {},
     "output_type": "execute_result"
    }
   ],
   "source": [
    "sub[['search rate', 'avg price']].corr()"
   ]
  },
  {
   "cell_type": "code",
   "execution_count": null,
   "id": "ded5fd8d",
   "metadata": {},
   "outputs": [],
   "source": []
  },
  {
   "cell_type": "code",
   "execution_count": null,
   "id": "6adc3493",
   "metadata": {},
   "outputs": [],
   "source": []
  },
  {
   "cell_type": "markdown",
   "id": "6f57940f",
   "metadata": {},
   "source": [
    "# Log Reg"
   ]
  },
  {
   "cell_type": "code",
   "execution_count": 28,
   "id": "c1e92a95",
   "metadata": {},
   "outputs": [],
   "source": [
    "lr_df = df[['search_conducted','price','age', 'AJZAE001']].dropna()\n",
    "\n",
    "X = lr_df[['price','age', 'AJZAE001']].to_numpy()\n",
    "y = (lr_df['search_conducted'] * 1).to_numpy()\n",
    "\n",
    "X_train, X_test, y_train, y_test = train_test_split(X, y, test_size=0.33, random_state=42)"
   ]
  },
  {
   "cell_type": "code",
   "execution_count": 29,
   "id": "e19d99a5",
   "metadata": {},
   "outputs": [
    {
     "name": "stdout",
     "output_type": "stream",
     "text": [
      "[[-1.89897252e-04 -1.14491220e-01 -3.99927555e-05]] [-0.00784988]\n"
     ]
    }
   ],
   "source": [
    "logistic_reg = LogisticRegression().fit(X_train,y_train)\n",
    "print(logistic_reg.coef_, logistic_reg.intercept_)"
   ]
  },
  {
   "cell_type": "code",
   "execution_count": 30,
   "id": "8c61654b",
   "metadata": {},
   "outputs": [],
   "source": [
    "preds = logistic_reg.predict(X_test)"
   ]
  },
  {
   "cell_type": "code",
   "execution_count": 31,
   "id": "67deee7c",
   "metadata": {},
   "outputs": [
    {
     "data": {
      "text/plain": [
       "0.32846639384060483"
      ]
     },
     "execution_count": 31,
     "metadata": {},
     "output_type": "execute_result"
    }
   ],
   "source": [
    "total = 0\n",
    "for i, j in zip(y_test, preds):\n",
    "    if i == j:\n",
    "        total += 1\n",
    "total/ len(y)\n",
    "    "
   ]
  },
  {
   "cell_type": "code",
   "execution_count": 32,
   "id": "47e9e8ed",
   "metadata": {
    "scrolled": true
   },
   "outputs": [
    {
     "name": "stdout",
     "output_type": "stream",
     "text": [
      "[[-1.80935904e-05 -9.32541934e-08 -1.26282810e-04 -8.63846169e-10]] [-5.4705459e-09]\n"
     ]
    }
   ],
   "source": [
    "lr_df = df[['search_conducted','price','age', 'AJZAE001']].dropna()\n",
    "lr_df['poly'] = lr_df['price'] * lr_df['AJZAE001']\n",
    "X = lr_df[['price','age', 'AJZAE001', 'poly']].to_numpy()\n",
    "y = (lr_df['search_conducted'] * 1).to_numpy()\n",
    "\n",
    "X_train, X_test, y_train, y_test = train_test_split(X, y, test_size=0.33, random_state=42)\n",
    "logistic_reg = LogisticRegression().fit(X_train,y_train)\n",
    "print(logistic_reg.coef_, logistic_reg.intercept_)"
   ]
  },
  {
   "cell_type": "code",
   "execution_count": 33,
   "id": "3a957d77",
   "metadata": {
    "scrolled": true
   },
   "outputs": [
    {
     "name": "stdout",
     "output_type": "stream",
     "text": [
      "Optimization terminated successfully.\n",
      "         Current function value: 0.032688\n",
      "         Iterations 13\n"
     ]
    },
    {
     "data": {
      "text/html": [
       "<table class=\"simpletable\">\n",
       "<caption>Logit Regression Results</caption>\n",
       "<tr>\n",
       "  <th>Dep. Variable:</th>           <td>y</td>        <th>  No. Observations:  </th>  <td> 38637</td> \n",
       "</tr>\n",
       "<tr>\n",
       "  <th>Model:</th>                 <td>Logit</td>      <th>  Df Residuals:      </th>  <td> 38633</td> \n",
       "</tr>\n",
       "<tr>\n",
       "  <th>Method:</th>                 <td>MLE</td>       <th>  Df Model:          </th>  <td>     3</td> \n",
       "</tr>\n",
       "<tr>\n",
       "  <th>Date:</th>            <td>Sun, 06 Mar 2022</td> <th>  Pseudo R-squ.:     </th> <td>-0.03925</td>\n",
       "</tr>\n",
       "<tr>\n",
       "  <th>Time:</th>                <td>11:01:00</td>     <th>  Log-Likelihood:    </th> <td> -1263.0</td>\n",
       "</tr>\n",
       "<tr>\n",
       "  <th>converged:</th>             <td>True</td>       <th>  LL-Null:           </th> <td> -1215.3</td>\n",
       "</tr>\n",
       "<tr>\n",
       "  <th>Covariance Type:</th>     <td>nonrobust</td>    <th>  LLR p-value:       </th>  <td> 1.000</td> \n",
       "</tr>\n",
       "</table>\n",
       "<table class=\"simpletable\">\n",
       "<tr>\n",
       "   <td></td>     <th>coef</th>     <th>std err</th>      <th>z</th>      <th>P>|z|</th>  <th>[0.025</th>    <th>0.975]</th>  \n",
       "</tr>\n",
       "<tr>\n",
       "  <th>x1</th> <td>   -0.0003</td> <td> 1.89e-05</td> <td>  -15.272</td> <td> 0.000</td> <td>   -0.000</td> <td>   -0.000</td>\n",
       "</tr>\n",
       "<tr>\n",
       "  <th>x2</th> <td>   -0.0796</td> <td>    0.010</td> <td>   -8.026</td> <td> 0.000</td> <td>   -0.099</td> <td>   -0.060</td>\n",
       "</tr>\n",
       "<tr>\n",
       "  <th>x3</th> <td> -5.32e-05</td> <td> 3.71e-06</td> <td>  -14.328</td> <td> 0.000</td> <td>-6.05e-05</td> <td>-4.59e-05</td>\n",
       "</tr>\n",
       "<tr>\n",
       "  <th>x4</th> <td> 2.473e-09</td> <td> 1.58e-10</td> <td>   15.608</td> <td> 0.000</td> <td> 2.16e-09</td> <td> 2.78e-09</td>\n",
       "</tr>\n",
       "</table>"
      ],
      "text/plain": [
       "<class 'statsmodels.iolib.summary.Summary'>\n",
       "\"\"\"\n",
       "                           Logit Regression Results                           \n",
       "==============================================================================\n",
       "Dep. Variable:                      y   No. Observations:                38637\n",
       "Model:                          Logit   Df Residuals:                    38633\n",
       "Method:                           MLE   Df Model:                            3\n",
       "Date:                Sun, 06 Mar 2022   Pseudo R-squ.:                -0.03925\n",
       "Time:                        11:01:00   Log-Likelihood:                -1263.0\n",
       "converged:                       True   LL-Null:                       -1215.3\n",
       "Covariance Type:            nonrobust   LLR p-value:                     1.000\n",
       "==============================================================================\n",
       "                 coef    std err          z      P>|z|      [0.025      0.975]\n",
       "------------------------------------------------------------------------------\n",
       "x1            -0.0003   1.89e-05    -15.272      0.000      -0.000      -0.000\n",
       "x2            -0.0796      0.010     -8.026      0.000      -0.099      -0.060\n",
       "x3          -5.32e-05   3.71e-06    -14.328      0.000   -6.05e-05   -4.59e-05\n",
       "x4          2.473e-09   1.58e-10     15.608      0.000    2.16e-09    2.78e-09\n",
       "==============================================================================\n",
       "\"\"\""
      ]
     },
     "execution_count": 33,
     "metadata": {},
     "output_type": "execute_result"
    }
   ],
   "source": [
    "log_reg = sm.Logit(y_train, X_train).fit()\n",
    "log_reg.summary()"
   ]
  },
  {
   "cell_type": "code",
   "execution_count": 49,
   "id": "38344185",
   "metadata": {},
   "outputs": [
    {
     "data": {
      "text/plain": [
       "0        False\n",
       "1        False\n",
       "118      False\n",
       "261      False\n",
       "289      False\n",
       "         ...  \n",
       "59129    False\n",
       "59449    False\n",
       "59975    False\n",
       "60619    False\n",
       "63837    False\n",
       "Name: arrest_made, Length: 59383, dtype: bool"
      ]
     },
     "execution_count": 49,
     "metadata": {},
     "output_type": "execute_result"
    }
   ],
   "source": [
    "df['arrest_made']"
   ]
  },
  {
   "cell_type": "code",
   "execution_count": 51,
   "id": "6803e24c",
   "metadata": {
    "scrolled": true
   },
   "outputs": [
    {
     "name": "stdout",
     "output_type": "stream",
     "text": [
      "[[-2.70743215e-05 -1.48639099e-07 -1.82840691e-04  3.99286213e-10]] [-8.41922711e-09]\n"
     ]
    }
   ],
   "source": [
    "lr_df = df[['arrest_made','price','age', 'AJZAE001']].dropna()\n",
    "lr_df['poly'] = lr_df['price'] * lr_df['AJZAE001']\n",
    "X = lr_df[['price','age', 'AJZAE001', 'poly']].to_numpy()\n",
    "y = (lr_df['arrest_made'] * 1).to_numpy()\n",
    "\n",
    "X_train, X_test, y_train, y_test = train_test_split(X, y, test_size=0.33, random_state=42)\n",
    "logistic_reg = LogisticRegression().fit(X_train,y_train)\n",
    "print(logistic_reg.coef_, logistic_reg.intercept_)\n"
   ]
  },
  {
   "cell_type": "code",
   "execution_count": 52,
   "id": "f7dd36c9",
   "metadata": {},
   "outputs": [
    {
     "name": "stdout",
     "output_type": "stream",
     "text": [
      "Optimization terminated successfully.\n",
      "         Current function value: 0.012690\n",
      "         Iterations 11\n"
     ]
    },
    {
     "data": {
      "text/html": [
       "<table class=\"simpletable\">\n",
       "<caption>Logit Regression Results</caption>\n",
       "<tr>\n",
       "  <th>Dep. Variable:</th>           <td>y</td>        <th>  No. Observations:  </th>  <td> 38637</td> \n",
       "</tr>\n",
       "<tr>\n",
       "  <th>Model:</th>                 <td>Logit</td>      <th>  Df Residuals:      </th>  <td> 38633</td> \n",
       "</tr>\n",
       "<tr>\n",
       "  <th>Method:</th>                 <td>MLE</td>       <th>  Df Model:          </th>  <td>     3</td> \n",
       "</tr>\n",
       "<tr>\n",
       "  <th>Date:</th>            <td>Sun, 06 Mar 2022</td> <th>  Pseudo R-squ.:     </th> <td>-0.07883</td>\n",
       "</tr>\n",
       "<tr>\n",
       "  <th>Time:</th>                <td>12:17:12</td>     <th>  Log-Likelihood:    </th> <td> -490.30</td>\n",
       "</tr>\n",
       "<tr>\n",
       "  <th>converged:</th>             <td>True</td>       <th>  LL-Null:           </th> <td> -454.47</td>\n",
       "</tr>\n",
       "<tr>\n",
       "  <th>Covariance Type:</th>     <td>nonrobust</td>    <th>  LLR p-value:       </th>  <td> 1.000</td> \n",
       "</tr>\n",
       "</table>\n",
       "<table class=\"simpletable\">\n",
       "<tr>\n",
       "   <td></td>     <th>coef</th>     <th>std err</th>      <th>z</th>      <th>P>|z|</th>  <th>[0.025</th>    <th>0.975]</th>  \n",
       "</tr>\n",
       "<tr>\n",
       "  <th>x1</th> <td>   -0.0003</td> <td>    3e-05</td> <td>   -9.141</td> <td> 0.000</td> <td>   -0.000</td> <td>   -0.000</td>\n",
       "</tr>\n",
       "<tr>\n",
       "  <th>x2</th> <td>   -0.1374</td> <td>    0.018</td> <td>   -7.506</td> <td> 0.000</td> <td>   -0.173</td> <td>   -0.102</td>\n",
       "</tr>\n",
       "<tr>\n",
       "  <th>x3</th> <td>-6.488e-05</td> <td> 7.17e-06</td> <td>   -9.047</td> <td> 0.000</td> <td>-7.89e-05</td> <td>-5.08e-05</td>\n",
       "</tr>\n",
       "<tr>\n",
       "  <th>x4</th> <td> 2.362e-09</td> <td> 2.46e-10</td> <td>    9.585</td> <td> 0.000</td> <td> 1.88e-09</td> <td> 2.84e-09</td>\n",
       "</tr>\n",
       "</table>"
      ],
      "text/plain": [
       "<class 'statsmodels.iolib.summary.Summary'>\n",
       "\"\"\"\n",
       "                           Logit Regression Results                           \n",
       "==============================================================================\n",
       "Dep. Variable:                      y   No. Observations:                38637\n",
       "Model:                          Logit   Df Residuals:                    38633\n",
       "Method:                           MLE   Df Model:                            3\n",
       "Date:                Sun, 06 Mar 2022   Pseudo R-squ.:                -0.07883\n",
       "Time:                        12:17:12   Log-Likelihood:                -490.30\n",
       "converged:                       True   LL-Null:                       -454.47\n",
       "Covariance Type:            nonrobust   LLR p-value:                     1.000\n",
       "==============================================================================\n",
       "                 coef    std err          z      P>|z|      [0.025      0.975]\n",
       "------------------------------------------------------------------------------\n",
       "x1            -0.0003      3e-05     -9.141      0.000      -0.000      -0.000\n",
       "x2            -0.1374      0.018     -7.506      0.000      -0.173      -0.102\n",
       "x3         -6.488e-05   7.17e-06     -9.047      0.000   -7.89e-05   -5.08e-05\n",
       "x4          2.362e-09   2.46e-10      9.585      0.000    1.88e-09    2.84e-09\n",
       "==============================================================================\n",
       "\"\"\""
      ]
     },
     "execution_count": 52,
     "metadata": {},
     "output_type": "execute_result"
    }
   ],
   "source": [
    "log_reg = sm.Logit(y_train, X_train).fit()\n",
    "log_reg.summary()"
   ]
  },
  {
   "cell_type": "markdown",
   "id": "12d5fbc2",
   "metadata": {},
   "source": [
    "To interpret regression: \n",
    "\n",
    "are my coeff significant? calculate standard errors\n",
    "\n",
    "1. use scikit and calculate stats (STD, mean), calculate standard error and pvalues by hand\n",
    "2. use stats models (logistic regression in stats models) \n",
    "\n",
    "https://www.statsmodels.org/stable/index.html \n",
    "\n",
    "plots:\n",
    "\n",
    "3. car prices one axis, income another axis, size of dot is search rate (bin the data) \n",
    "4. matrix plot\n",
    "\n",
    "regression again: \n",
    "\n",
    "5. throw in all the data, including income, value, using log reg, see which variables have most impact (age, time of day) see which variables are strongest, use stats models to see which ones are significant\n",
    "6. do stats models controlling for a certain var (income etc)"
   ]
  },
  {
   "cell_type": "code",
   "execution_count": 34,
   "id": "fd9f5383",
   "metadata": {},
   "outputs": [
    {
     "data": {
      "text/html": [
       "<div>\n",
       "<style scoped>\n",
       "    .dataframe tbody tr th:only-of-type {\n",
       "        vertical-align: middle;\n",
       "    }\n",
       "\n",
       "    .dataframe tbody tr th {\n",
       "        vertical-align: top;\n",
       "    }\n",
       "\n",
       "    .dataframe thead th {\n",
       "        text-align: right;\n",
       "    }\n",
       "</style>\n",
       "<table border=\"1\" class=\"dataframe\">\n",
       "  <thead>\n",
       "    <tr style=\"text-align: right;\">\n",
       "      <th></th>\n",
       "      <th>district</th>\n",
       "      <th>count</th>\n",
       "      <th>arrest_made</th>\n",
       "      <th>citation_issued</th>\n",
       "      <th>search_conducted</th>\n",
       "      <th>avg price</th>\n",
       "      <th>avg income</th>\n",
       "      <th>arrest rate</th>\n",
       "      <th>search rate</th>\n",
       "    </tr>\n",
       "  </thead>\n",
       "  <tbody>\n",
       "    <tr>\n",
       "      <th>0</th>\n",
       "      <td>2110.0</td>\n",
       "      <td>1383</td>\n",
       "      <td>2</td>\n",
       "      <td>1383</td>\n",
       "      <td>2</td>\n",
       "      <td>15670.789897</td>\n",
       "      <td>33156.629790</td>\n",
       "      <td>0.144613</td>\n",
       "      <td>0.144613</td>\n",
       "    </tr>\n",
       "    <tr>\n",
       "      <th>1</th>\n",
       "      <td>2120.0</td>\n",
       "      <td>768</td>\n",
       "      <td>4</td>\n",
       "      <td>768</td>\n",
       "      <td>10</td>\n",
       "      <td>17014.295953</td>\n",
       "      <td>53040.625000</td>\n",
       "      <td>0.520833</td>\n",
       "      <td>1.302083</td>\n",
       "    </tr>\n",
       "    <tr>\n",
       "      <th>2</th>\n",
       "      <td>2130.0</td>\n",
       "      <td>209</td>\n",
       "      <td>1</td>\n",
       "      <td>209</td>\n",
       "      <td>1</td>\n",
       "      <td>12652.943931</td>\n",
       "      <td>50872.703349</td>\n",
       "      <td>0.478469</td>\n",
       "      <td>0.478469</td>\n",
       "    </tr>\n",
       "    <tr>\n",
       "      <th>3</th>\n",
       "      <td>2140.0</td>\n",
       "      <td>279</td>\n",
       "      <td>0</td>\n",
       "      <td>279</td>\n",
       "      <td>1</td>\n",
       "      <td>12659.226837</td>\n",
       "      <td>36653.917563</td>\n",
       "      <td>0.000000</td>\n",
       "      <td>0.358423</td>\n",
       "    </tr>\n",
       "    <tr>\n",
       "      <th>4</th>\n",
       "      <td>2150.0</td>\n",
       "      <td>464</td>\n",
       "      <td>0</td>\n",
       "      <td>464</td>\n",
       "      <td>2</td>\n",
       "      <td>14395.082846</td>\n",
       "      <td>42803.144397</td>\n",
       "      <td>0.000000</td>\n",
       "      <td>0.431034</td>\n",
       "    </tr>\n",
       "    <tr>\n",
       "      <th>...</th>\n",
       "      <td>...</td>\n",
       "      <td>...</td>\n",
       "      <td>...</td>\n",
       "      <td>...</td>\n",
       "      <td>...</td>\n",
       "      <td>...</td>\n",
       "      <td>...</td>\n",
       "      <td>...</td>\n",
       "      <td>...</td>\n",
       "    </tr>\n",
       "    <tr>\n",
       "      <th>110</th>\n",
       "      <td>7330.0</td>\n",
       "      <td>122</td>\n",
       "      <td>0</td>\n",
       "      <td>122</td>\n",
       "      <td>2</td>\n",
       "      <td>12855.664122</td>\n",
       "      <td>80683.688525</td>\n",
       "      <td>0.000000</td>\n",
       "      <td>1.639344</td>\n",
       "    </tr>\n",
       "    <tr>\n",
       "      <th>111</th>\n",
       "      <td>7340.0</td>\n",
       "      <td>3885</td>\n",
       "      <td>2</td>\n",
       "      <td>3885</td>\n",
       "      <td>9</td>\n",
       "      <td>16153.997891</td>\n",
       "      <td>44560.554183</td>\n",
       "      <td>0.051480</td>\n",
       "      <td>0.231660</td>\n",
       "    </tr>\n",
       "    <tr>\n",
       "      <th>112</th>\n",
       "      <td>7350.0</td>\n",
       "      <td>275</td>\n",
       "      <td>0</td>\n",
       "      <td>275</td>\n",
       "      <td>0</td>\n",
       "      <td>16997.994416</td>\n",
       "      <td>85994.930909</td>\n",
       "      <td>0.000000</td>\n",
       "      <td>0.000000</td>\n",
       "    </tr>\n",
       "    <tr>\n",
       "      <th>113</th>\n",
       "      <td>7360.0</td>\n",
       "      <td>438</td>\n",
       "      <td>3</td>\n",
       "      <td>438</td>\n",
       "      <td>3</td>\n",
       "      <td>16432.671359</td>\n",
       "      <td>85778.616438</td>\n",
       "      <td>0.684932</td>\n",
       "      <td>0.684932</td>\n",
       "    </tr>\n",
       "    <tr>\n",
       "      <th>114</th>\n",
       "      <td>7370.0</td>\n",
       "      <td>46</td>\n",
       "      <td>0</td>\n",
       "      <td>46</td>\n",
       "      <td>1</td>\n",
       "      <td>12220.748157</td>\n",
       "      <td>55921.152174</td>\n",
       "      <td>0.000000</td>\n",
       "      <td>2.173913</td>\n",
       "    </tr>\n",
       "  </tbody>\n",
       "</table>\n",
       "<p>115 rows × 9 columns</p>\n",
       "</div>"
      ],
      "text/plain": [
       "     district  count  arrest_made  citation_issued  search_conducted  \\\n",
       "0      2110.0   1383            2             1383                 2   \n",
       "1      2120.0    768            4              768                10   \n",
       "2      2130.0    209            1              209                 1   \n",
       "3      2140.0    279            0              279                 1   \n",
       "4      2150.0    464            0              464                 2   \n",
       "..        ...    ...          ...              ...               ...   \n",
       "110    7330.0    122            0              122                 2   \n",
       "111    7340.0   3885            2             3885                 9   \n",
       "112    7350.0    275            0              275                 0   \n",
       "113    7360.0    438            3              438                 3   \n",
       "114    7370.0     46            0               46                 1   \n",
       "\n",
       "        avg price    avg income  arrest rate  search rate  \n",
       "0    15670.789897  33156.629790     0.144613     0.144613  \n",
       "1    17014.295953  53040.625000     0.520833     1.302083  \n",
       "2    12652.943931  50872.703349     0.478469     0.478469  \n",
       "3    12659.226837  36653.917563     0.000000     0.358423  \n",
       "4    14395.082846  42803.144397     0.000000     0.431034  \n",
       "..            ...           ...          ...          ...  \n",
       "110  12855.664122  80683.688525     0.000000     1.639344  \n",
       "111  16153.997891  44560.554183     0.051480     0.231660  \n",
       "112  16997.994416  85994.930909     0.000000     0.000000  \n",
       "113  16432.671359  85778.616438     0.684932     0.684932  \n",
       "114  12220.748157  55921.152174     0.000000     2.173913  \n",
       "\n",
       "[115 rows x 9 columns]"
      ]
     },
     "execution_count": 34,
     "metadata": {},
     "output_type": "execute_result"
    }
   ],
   "source": [
    "sub"
   ]
  },
  {
   "cell_type": "code",
   "execution_count": 60,
   "id": "675ff05d",
   "metadata": {
    "scrolled": true
   },
   "outputs": [
    {
     "name": "stderr",
     "output_type": "stream",
     "text": [
      "/opt/conda/lib/python3.9/site-packages/seaborn/_decorators.py:36: FutureWarning: Pass the following variables as keyword args: x, y. From version 0.12, the only valid positional argument will be `data`, and passing other arguments without an explicit keyword will result in an error or misinterpretation.\n",
      "  warnings.warn(\n",
      "No handles with labels found to put in legend.\n"
     ]
    },
    {
     "data": {
      "text/plain": [
       "<matplotlib.legend.Legend at 0x7fd7f6bfb7c0>"
      ]
     },
     "execution_count": 60,
     "metadata": {},
     "output_type": "execute_result"
    },
    {
     "data": {
      "image/png": "[encoded data removed]",
      "text/plain": [
       "<Figure size 432x288 with 1 Axes>"
      ]
     },
     "metadata": {
      "needs_background": "light"
     },
     "output_type": "display_data"
    }
   ],
   "source": [
    "sns.scatterplot(sub['avg income'], sub['avg price'], s=sub['search rate'] *50).set(title='Average Income of District vs Average Car price')\n",
    "plt.legend()"
   ]
  },
  {
   "cell_type": "code",
   "execution_count": 87,
   "id": "66943fac",
   "metadata": {},
   "outputs": [
    {
     "data": {
      "image/png": "[encoded data removed]",
      "text/plain": [
       "<Figure size 432x288 with 1 Axes>"
      ]
     },
     "metadata": {
      "needs_background": "light"
     },
     "output_type": "display_data"
    }
   ],
   "source": [
    "fig, axes = plt.subplots(nrows=1, ncols=1)\n",
    "fig0 = sub.plot.scatter(x = 'avg income', y = 'avg price', s=sub['search rate']*60, alpha=0.5, ax = axes, color='red')\n",
    "\n",
    "fig0.set_title('San Antonio \\n Average District Income vs Average District Car Price')\n",
    "\n",
    "fig0.set_xlabel('Average Income')\n",
    "fig0.set_ylabel('Average Price')\n",
    "\n",
    "axes.legend(['Search Rate']);\n"
   ]
  },
  {
   "cell_type": "code",
   "execution_count": 36,
   "id": "a8a80013",
   "metadata": {},
   "outputs": [],
   "source": [
    "def get_bin_search_rate(group):\n",
    "    return price_grouped['search rate'][group]"
   ]
  },
  {
   "cell_type": "code",
   "execution_count": 53,
   "id": "f71279c2",
   "metadata": {
    "scrolled": false
   },
   "outputs": [
    {
     "name": "stderr",
     "output_type": "stream",
     "text": [
      "/home/jasheu/.local/lib/python3.9/site-packages/geopandas/geodataframe.py:1351: SettingWithCopyWarning: \n",
      "A value is trying to be set on a copy of a slice from a DataFrame.\n",
      "Try using .loc[row_indexer,col_indexer] = value instead\n",
      "\n",
      "See the caveats in the documentation: https://pandas.pydata.org/pandas-docs/stable/user_guide/indexing.html#returning-a-view-versus-a-copy\n",
      "  super().__setitem__(key, value)\n"
     ]
    }
   ],
   "source": [
    "df['price_bin'] = df['price'].apply(bin_price)\n",
    "df['binned search rate'] = df['price_bin'].apply(get_bin_search_rate)\n",
    "df['income'] = df['AJZAE001']"
   ]
  },
  {
   "cell_type": "code",
   "execution_count": 56,
   "id": "82f64a12",
   "metadata": {},
   "outputs": [
    {
     "data": {
      "image/png": "[encoded data removed]",
      "text/plain": [
       "<Figure size 432x288 with 1 Axes>"
      ]
     },
     "metadata": {
      "needs_background": "light"
     },
     "output_type": "display_data"
    }
   ],
   "source": [
    "fig, axes = plt.subplots(nrows=1, ncols=1)\n",
    "fig0 = df.plot.scatter(x = 'income', y = 'price', s=df['binned search rate'] *1000, alpha=0.5, ax = axes)\n"
   ]
  },
  {
   "cell_type": "code",
   "execution_count": 38,
   "id": "f1f2f68c",
   "metadata": {
    "scrolled": true
   },
   "outputs": [
    {
     "name": "stderr",
     "output_type": "stream",
     "text": [
      "/opt/conda/lib/python3.9/site-packages/seaborn/_decorators.py:36: FutureWarning: Pass the following variables as keyword args: x, y. From version 0.12, the only valid positional argument will be `data`, and passing other arguments without an explicit keyword will result in an error or misinterpretation.\n",
      "  warnings.warn(\n"
     ]
    },
    {
     "ename": "ValueError",
     "evalue": "s must be a scalar, or float array-like with the same size as x and y",
     "output_type": "error",
     "traceback": [
      "\u001b[0;31m---------------------------------------------------------------------------\u001b[0m",
      "\u001b[0;31mValueError\u001b[0m                                Traceback (most recent call last)",
      "\u001b[0;32m/tmp/ipykernel_159/197597093.py\u001b[0m in \u001b[0;36m<module>\u001b[0;34m\u001b[0m\n\u001b[0;32m----> 1\u001b[0;31m \u001b[0msns\u001b[0m\u001b[0;34m.\u001b[0m\u001b[0mscatterplot\u001b[0m\u001b[0;34m(\u001b[0m\u001b[0mdf\u001b[0m\u001b[0;34m[\u001b[0m\u001b[0;34m'AJZAE001'\u001b[0m\u001b[0;34m]\u001b[0m\u001b[0;34m,\u001b[0m \u001b[0mdf\u001b[0m\u001b[0;34m[\u001b[0m\u001b[0;34m'price'\u001b[0m\u001b[0;34m]\u001b[0m\u001b[0;34m,\u001b[0m \u001b[0ms\u001b[0m\u001b[0;34m=\u001b[0m\u001b[0mdf\u001b[0m\u001b[0;34m[\u001b[0m\u001b[0;34m'binned search rate'\u001b[0m\u001b[0;34m]\u001b[0m\u001b[0;34m)\u001b[0m\u001b[0;34m.\u001b[0m\u001b[0mset\u001b[0m\u001b[0;34m(\u001b[0m\u001b[0mtitle\u001b[0m\u001b[0;34m=\u001b[0m\u001b[0;34m'Average Income of District vs Average Car price'\u001b[0m\u001b[0;34m)\u001b[0m\u001b[0;34m\u001b[0m\u001b[0;34m\u001b[0m\u001b[0m\n\u001b[0m",
      "\u001b[0;32m/opt/conda/lib/python3.9/site-packages/seaborn/_decorators.py\u001b[0m in \u001b[0;36minner_f\u001b[0;34m(*args, **kwargs)\u001b[0m\n\u001b[1;32m     44\u001b[0m             )\n\u001b[1;32m     45\u001b[0m         \u001b[0mkwargs\u001b[0m\u001b[0;34m.\u001b[0m\u001b[0mupdate\u001b[0m\u001b[0;34m(\u001b[0m\u001b[0;34m{\u001b[0m\u001b[0mk\u001b[0m\u001b[0;34m:\u001b[0m \u001b[0marg\u001b[0m \u001b[0;32mfor\u001b[0m \u001b[0mk\u001b[0m\u001b[0;34m,\u001b[0m \u001b[0marg\u001b[0m \u001b[0;32min\u001b[0m \u001b[0mzip\u001b[0m\u001b[0;34m(\u001b[0m\u001b[0msig\u001b[0m\u001b[0;34m.\u001b[0m\u001b[0mparameters\u001b[0m\u001b[0;34m,\u001b[0m \u001b[0margs\u001b[0m\u001b[0;34m)\u001b[0m\u001b[0;34m}\u001b[0m\u001b[0;34m)\u001b[0m\u001b[0;34m\u001b[0m\u001b[0;34m\u001b[0m\u001b[0m\n\u001b[0;32m---> 46\u001b[0;31m         \u001b[0;32mreturn\u001b[0m \u001b[0mf\u001b[0m\u001b[0;34m(\u001b[0m\u001b[0;34m**\u001b[0m\u001b[0mkwargs\u001b[0m\u001b[0;34m)\u001b[0m\u001b[0;34m\u001b[0m\u001b[0;34m\u001b[0m\u001b[0m\n\u001b[0m\u001b[1;32m     47\u001b[0m     \u001b[0;32mreturn\u001b[0m \u001b[0minner_f\u001b[0m\u001b[0;34m\u001b[0m\u001b[0;34m\u001b[0m\u001b[0m\n\u001b[1;32m     48\u001b[0m \u001b[0;34m\u001b[0m\u001b[0m\n",
      "\u001b[0;32m/opt/conda/lib/python3.9/site-packages/seaborn/relational.py\u001b[0m in \u001b[0;36mscatterplot\u001b[0;34m(x, y, hue, style, size, data, palette, hue_order, hue_norm, sizes, size_order, size_norm, markers, style_order, x_bins, y_bins, units, estimator, ci, n_boot, alpha, x_jitter, y_jitter, legend, ax, **kwargs)\u001b[0m\n\u001b[1;32m    818\u001b[0m     \u001b[0mp\u001b[0m\u001b[0;34m.\u001b[0m\u001b[0m_attach\u001b[0m\u001b[0;34m(\u001b[0m\u001b[0max\u001b[0m\u001b[0;34m)\u001b[0m\u001b[0;34m\u001b[0m\u001b[0;34m\u001b[0m\u001b[0m\n\u001b[1;32m    819\u001b[0m \u001b[0;34m\u001b[0m\u001b[0m\n\u001b[0;32m--> 820\u001b[0;31m     \u001b[0mp\u001b[0m\u001b[0;34m.\u001b[0m\u001b[0mplot\u001b[0m\u001b[0;34m(\u001b[0m\u001b[0max\u001b[0m\u001b[0;34m,\u001b[0m \u001b[0mkwargs\u001b[0m\u001b[0;34m)\u001b[0m\u001b[0;34m\u001b[0m\u001b[0;34m\u001b[0m\u001b[0m\n\u001b[0m\u001b[1;32m    821\u001b[0m \u001b[0;34m\u001b[0m\u001b[0m\n\u001b[1;32m    822\u001b[0m     \u001b[0;32mreturn\u001b[0m \u001b[0max\u001b[0m\u001b[0;34m\u001b[0m\u001b[0;34m\u001b[0m\u001b[0m\n",
      "\u001b[0;32m/opt/conda/lib/python3.9/site-packages/seaborn/relational.py\u001b[0m in \u001b[0;36mplot\u001b[0;34m(self, ax, kws)\u001b[0m\n\u001b[1;32m    649\u001b[0m         \u001b[0;31m# Draw the scatter plot\u001b[0m\u001b[0;34m\u001b[0m\u001b[0;34m\u001b[0m\u001b[0;34m\u001b[0m\u001b[0m\n\u001b[1;32m    650\u001b[0m         \u001b[0margs\u001b[0m \u001b[0;34m=\u001b[0m \u001b[0mnp\u001b[0m\u001b[0;34m.\u001b[0m\u001b[0masarray\u001b[0m\u001b[0;34m(\u001b[0m\u001b[0mx\u001b[0m\u001b[0;34m)\u001b[0m\u001b[0;34m,\u001b[0m \u001b[0mnp\u001b[0m\u001b[0;34m.\u001b[0m\u001b[0masarray\u001b[0m\u001b[0;34m(\u001b[0m\u001b[0my\u001b[0m\u001b[0;34m)\u001b[0m\u001b[0;34m,\u001b[0m \u001b[0mnp\u001b[0m\u001b[0;34m.\u001b[0m\u001b[0masarray\u001b[0m\u001b[0;34m(\u001b[0m\u001b[0ms\u001b[0m\u001b[0;34m)\u001b[0m\u001b[0;34m,\u001b[0m \u001b[0mnp\u001b[0m\u001b[0;34m.\u001b[0m\u001b[0masarray\u001b[0m\u001b[0;34m(\u001b[0m\u001b[0mc\u001b[0m\u001b[0;34m)\u001b[0m\u001b[0;34m\u001b[0m\u001b[0;34m\u001b[0m\u001b[0m\n\u001b[0;32m--> 651\u001b[0;31m         \u001b[0mpoints\u001b[0m \u001b[0;34m=\u001b[0m \u001b[0max\u001b[0m\u001b[0;34m.\u001b[0m\u001b[0mscatter\u001b[0m\u001b[0;34m(\u001b[0m\u001b[0;34m*\u001b[0m\u001b[0margs\u001b[0m\u001b[0;34m,\u001b[0m \u001b[0;34m**\u001b[0m\u001b[0mkws\u001b[0m\u001b[0;34m)\u001b[0m\u001b[0;34m\u001b[0m\u001b[0;34m\u001b[0m\u001b[0m\n\u001b[0m\u001b[1;32m    652\u001b[0m \u001b[0;34m\u001b[0m\u001b[0m\n\u001b[1;32m    653\u001b[0m         \u001b[0;31m# Update the paths to get different marker shapes.\u001b[0m\u001b[0;34m\u001b[0m\u001b[0;34m\u001b[0m\u001b[0;34m\u001b[0m\u001b[0m\n",
      "\u001b[0;32m/opt/conda/lib/python3.9/site-packages/matplotlib/__init__.py\u001b[0m in \u001b[0;36minner\u001b[0;34m(ax, data, *args, **kwargs)\u001b[0m\n\u001b[1;32m   1359\u001b[0m     \u001b[0;32mdef\u001b[0m \u001b[0minner\u001b[0m\u001b[0;34m(\u001b[0m\u001b[0max\u001b[0m\u001b[0;34m,\u001b[0m \u001b[0;34m*\u001b[0m\u001b[0margs\u001b[0m\u001b[0;34m,\u001b[0m \u001b[0mdata\u001b[0m\u001b[0;34m=\u001b[0m\u001b[0;32mNone\u001b[0m\u001b[0;34m,\u001b[0m \u001b[0;34m**\u001b[0m\u001b[0mkwargs\u001b[0m\u001b[0;34m)\u001b[0m\u001b[0;34m:\u001b[0m\u001b[0;34m\u001b[0m\u001b[0;34m\u001b[0m\u001b[0m\n\u001b[1;32m   1360\u001b[0m         \u001b[0;32mif\u001b[0m \u001b[0mdata\u001b[0m \u001b[0;32mis\u001b[0m \u001b[0;32mNone\u001b[0m\u001b[0;34m:\u001b[0m\u001b[0;34m\u001b[0m\u001b[0;34m\u001b[0m\u001b[0m\n\u001b[0;32m-> 1361\u001b[0;31m             \u001b[0;32mreturn\u001b[0m \u001b[0mfunc\u001b[0m\u001b[0;34m(\u001b[0m\u001b[0max\u001b[0m\u001b[0;34m,\u001b[0m \u001b[0;34m*\u001b[0m\u001b[0mmap\u001b[0m\u001b[0;34m(\u001b[0m\u001b[0msanitize_sequence\u001b[0m\u001b[0;34m,\u001b[0m \u001b[0margs\u001b[0m\u001b[0;34m)\u001b[0m\u001b[0;34m,\u001b[0m \u001b[0;34m**\u001b[0m\u001b[0mkwargs\u001b[0m\u001b[0;34m)\u001b[0m\u001b[0;34m\u001b[0m\u001b[0;34m\u001b[0m\u001b[0m\n\u001b[0m\u001b[1;32m   1362\u001b[0m \u001b[0;34m\u001b[0m\u001b[0m\n\u001b[1;32m   1363\u001b[0m         \u001b[0mbound\u001b[0m \u001b[0;34m=\u001b[0m \u001b[0mnew_sig\u001b[0m\u001b[0;34m.\u001b[0m\u001b[0mbind\u001b[0m\u001b[0;34m(\u001b[0m\u001b[0max\u001b[0m\u001b[0;34m,\u001b[0m \u001b[0;34m*\u001b[0m\u001b[0margs\u001b[0m\u001b[0;34m,\u001b[0m \u001b[0;34m**\u001b[0m\u001b[0mkwargs\u001b[0m\u001b[0;34m)\u001b[0m\u001b[0;34m\u001b[0m\u001b[0;34m\u001b[0m\u001b[0m\n",
      "\u001b[0;32m/opt/conda/lib/python3.9/site-packages/matplotlib/axes/_axes.py\u001b[0m in \u001b[0;36mscatter\u001b[0;34m(self, x, y, s, c, marker, cmap, norm, vmin, vmax, alpha, linewidths, edgecolors, plotnonfinite, **kwargs)\u001b[0m\n\u001b[1;32m   4505\u001b[0m                 (not np.issubdtype(s.dtype, np.floating) and\n\u001b[1;32m   4506\u001b[0m                  not np.issubdtype(s.dtype, np.integer))):\n\u001b[0;32m-> 4507\u001b[0;31m             raise ValueError(\n\u001b[0m\u001b[1;32m   4508\u001b[0m                 \u001b[0;34m\"s must be a scalar, \"\u001b[0m\u001b[0;34m\u001b[0m\u001b[0;34m\u001b[0m\u001b[0m\n\u001b[1;32m   4509\u001b[0m                 \"or float array-like with the same size as x and y\")\n",
      "\u001b[0;31mValueError\u001b[0m: s must be a scalar, or float array-like with the same size as x and y"
     ]
    },
    {
     "data": {
      "image/png": "[encoded data removed]",
      "text/plain": [
       "<Figure size 432x288 with 1 Axes>"
      ]
     },
     "metadata": {
      "needs_background": "light"
     },
     "output_type": "display_data"
    }
   ],
   "source": [
    "sns.scatterplot(df['AJZAE001'], df['price'], s=df['binned search rate']).set(title='Average Income of District vs Average Car price')"
   ]
  },
  {
   "cell_type": "code",
   "execution_count": null,
   "id": "f472b722",
   "metadata": {},
   "outputs": [],
   "source": [
    "df.columns"
   ]
  },
  {
   "cell_type": "code",
   "execution_count": null,
   "id": "2a0cb8fd",
   "metadata": {},
   "outputs": [],
   "source": [
    "sns.pairplot(df[['age','price','income', 'binned search rate', 'price_bin']], hue='price_bin', diag_kind='auto')"
   ]
  },
  {
   "cell_type": "code",
   "execution_count": null,
   "id": "c0a655be",
   "metadata": {},
   "outputs": [],
   "source": []
  },
  {
   "cell_type": "code",
   "execution_count": null,
   "id": "a4eeeeef",
   "metadata": {},
   "outputs": [],
   "source": []
  },
  {
   "cell_type": "code",
   "execution_count": null,
   "id": "2f4e0515",
   "metadata": {},
   "outputs": [],
   "source": []
  }
 ],
 "metadata": {
  "kernelspec": {
   "display_name": "Python 3 (ipykernel)",
   "language": "python",
   "name": "python3"
  },
  "language_info": {
   "codemirror_mode": {
    "name": "ipython",
    "version": 3
   },
   "file_extension": ".py",
   "mimetype": "text/x-python",
   "name": "python",
   "nbconvert_exporter": "python",
   "pygments_lexer": "ipython3",
   "version": "3.9.5"
  }
 },
 "nbformat": 4,
 "nbformat_minor": 5
}
